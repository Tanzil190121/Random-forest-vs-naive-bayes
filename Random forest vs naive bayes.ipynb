{
 "cells": [
  {
   "cell_type": "code",
   "execution_count": 1,
   "id": "2d2b49ba",
   "metadata": {},
   "outputs": [],
   "source": [
    "import pandas as pd"
   ]
  },
  {
   "cell_type": "code",
   "execution_count": 2,
   "id": "0070ec4b",
   "metadata": {},
   "outputs": [],
   "source": [
    "data=pd.read_csv('wine.csv')"
   ]
  },
  {
   "cell_type": "code",
   "execution_count": 3,
   "id": "ac93859a",
   "metadata": {},
   "outputs": [
    {
     "data": {
      "text/html": [
       "<div>\n",
       "<style scoped>\n",
       "    .dataframe tbody tr th:only-of-type {\n",
       "        vertical-align: middle;\n",
       "    }\n",
       "\n",
       "    .dataframe tbody tr th {\n",
       "        vertical-align: top;\n",
       "    }\n",
       "\n",
       "    .dataframe thead th {\n",
       "        text-align: right;\n",
       "    }\n",
       "</style>\n",
       "<table border=\"1\" class=\"dataframe\">\n",
       "  <thead>\n",
       "    <tr style=\"text-align: right;\">\n",
       "      <th></th>\n",
       "      <th>fixed acidity</th>\n",
       "      <th>volatile acidity</th>\n",
       "      <th>citric acid</th>\n",
       "      <th>residual sugar</th>\n",
       "      <th>chlorides</th>\n",
       "      <th>free sulfur dioxide</th>\n",
       "      <th>total sulfur dioxide</th>\n",
       "      <th>density</th>\n",
       "      <th>pH</th>\n",
       "      <th>sulphates</th>\n",
       "      <th>alcohol</th>\n",
       "      <th>quality</th>\n",
       "    </tr>\n",
       "  </thead>\n",
       "  <tbody>\n",
       "    <tr>\n",
       "      <th>0</th>\n",
       "      <td>7.4</td>\n",
       "      <td>0.700</td>\n",
       "      <td>0.00</td>\n",
       "      <td>1.9</td>\n",
       "      <td>0.076</td>\n",
       "      <td>11.0</td>\n",
       "      <td>34.0</td>\n",
       "      <td>0.99780</td>\n",
       "      <td>3.51</td>\n",
       "      <td>0.56</td>\n",
       "      <td>9.4</td>\n",
       "      <td>5</td>\n",
       "    </tr>\n",
       "    <tr>\n",
       "      <th>1</th>\n",
       "      <td>7.8</td>\n",
       "      <td>0.880</td>\n",
       "      <td>0.00</td>\n",
       "      <td>2.6</td>\n",
       "      <td>0.098</td>\n",
       "      <td>25.0</td>\n",
       "      <td>67.0</td>\n",
       "      <td>0.99680</td>\n",
       "      <td>3.20</td>\n",
       "      <td>0.68</td>\n",
       "      <td>9.8</td>\n",
       "      <td>5</td>\n",
       "    </tr>\n",
       "    <tr>\n",
       "      <th>2</th>\n",
       "      <td>7.8</td>\n",
       "      <td>0.760</td>\n",
       "      <td>0.04</td>\n",
       "      <td>2.3</td>\n",
       "      <td>0.092</td>\n",
       "      <td>15.0</td>\n",
       "      <td>54.0</td>\n",
       "      <td>0.99700</td>\n",
       "      <td>3.26</td>\n",
       "      <td>0.65</td>\n",
       "      <td>9.8</td>\n",
       "      <td>5</td>\n",
       "    </tr>\n",
       "    <tr>\n",
       "      <th>3</th>\n",
       "      <td>11.2</td>\n",
       "      <td>0.280</td>\n",
       "      <td>0.56</td>\n",
       "      <td>1.9</td>\n",
       "      <td>0.075</td>\n",
       "      <td>17.0</td>\n",
       "      <td>60.0</td>\n",
       "      <td>0.99800</td>\n",
       "      <td>3.16</td>\n",
       "      <td>0.58</td>\n",
       "      <td>9.8</td>\n",
       "      <td>6</td>\n",
       "    </tr>\n",
       "    <tr>\n",
       "      <th>4</th>\n",
       "      <td>7.4</td>\n",
       "      <td>0.700</td>\n",
       "      <td>0.00</td>\n",
       "      <td>1.9</td>\n",
       "      <td>0.076</td>\n",
       "      <td>11.0</td>\n",
       "      <td>34.0</td>\n",
       "      <td>0.99780</td>\n",
       "      <td>3.51</td>\n",
       "      <td>0.56</td>\n",
       "      <td>9.4</td>\n",
       "      <td>5</td>\n",
       "    </tr>\n",
       "    <tr>\n",
       "      <th>...</th>\n",
       "      <td>...</td>\n",
       "      <td>...</td>\n",
       "      <td>...</td>\n",
       "      <td>...</td>\n",
       "      <td>...</td>\n",
       "      <td>...</td>\n",
       "      <td>...</td>\n",
       "      <td>...</td>\n",
       "      <td>...</td>\n",
       "      <td>...</td>\n",
       "      <td>...</td>\n",
       "      <td>...</td>\n",
       "    </tr>\n",
       "    <tr>\n",
       "      <th>1594</th>\n",
       "      <td>6.2</td>\n",
       "      <td>0.600</td>\n",
       "      <td>0.08</td>\n",
       "      <td>2.0</td>\n",
       "      <td>0.090</td>\n",
       "      <td>32.0</td>\n",
       "      <td>44.0</td>\n",
       "      <td>0.99490</td>\n",
       "      <td>3.45</td>\n",
       "      <td>0.58</td>\n",
       "      <td>10.5</td>\n",
       "      <td>5</td>\n",
       "    </tr>\n",
       "    <tr>\n",
       "      <th>1595</th>\n",
       "      <td>5.9</td>\n",
       "      <td>0.550</td>\n",
       "      <td>0.10</td>\n",
       "      <td>2.2</td>\n",
       "      <td>0.062</td>\n",
       "      <td>39.0</td>\n",
       "      <td>51.0</td>\n",
       "      <td>0.99512</td>\n",
       "      <td>3.52</td>\n",
       "      <td>0.76</td>\n",
       "      <td>11.2</td>\n",
       "      <td>6</td>\n",
       "    </tr>\n",
       "    <tr>\n",
       "      <th>1596</th>\n",
       "      <td>6.3</td>\n",
       "      <td>0.510</td>\n",
       "      <td>0.13</td>\n",
       "      <td>2.3</td>\n",
       "      <td>0.076</td>\n",
       "      <td>29.0</td>\n",
       "      <td>40.0</td>\n",
       "      <td>0.99574</td>\n",
       "      <td>3.42</td>\n",
       "      <td>0.75</td>\n",
       "      <td>11.0</td>\n",
       "      <td>6</td>\n",
       "    </tr>\n",
       "    <tr>\n",
       "      <th>1597</th>\n",
       "      <td>5.9</td>\n",
       "      <td>0.645</td>\n",
       "      <td>0.12</td>\n",
       "      <td>2.0</td>\n",
       "      <td>0.075</td>\n",
       "      <td>32.0</td>\n",
       "      <td>44.0</td>\n",
       "      <td>0.99547</td>\n",
       "      <td>3.57</td>\n",
       "      <td>0.71</td>\n",
       "      <td>10.2</td>\n",
       "      <td>5</td>\n",
       "    </tr>\n",
       "    <tr>\n",
       "      <th>1598</th>\n",
       "      <td>6.0</td>\n",
       "      <td>0.310</td>\n",
       "      <td>0.47</td>\n",
       "      <td>3.6</td>\n",
       "      <td>0.067</td>\n",
       "      <td>18.0</td>\n",
       "      <td>42.0</td>\n",
       "      <td>0.99549</td>\n",
       "      <td>3.39</td>\n",
       "      <td>0.66</td>\n",
       "      <td>11.0</td>\n",
       "      <td>6</td>\n",
       "    </tr>\n",
       "  </tbody>\n",
       "</table>\n",
       "<p>1599 rows × 12 columns</p>\n",
       "</div>"
      ],
      "text/plain": [
       "      fixed acidity  volatile acidity  citric acid  residual sugar  chlorides  \\\n",
       "0               7.4             0.700         0.00             1.9      0.076   \n",
       "1               7.8             0.880         0.00             2.6      0.098   \n",
       "2               7.8             0.760         0.04             2.3      0.092   \n",
       "3              11.2             0.280         0.56             1.9      0.075   \n",
       "4               7.4             0.700         0.00             1.9      0.076   \n",
       "...             ...               ...          ...             ...        ...   \n",
       "1594            6.2             0.600         0.08             2.0      0.090   \n",
       "1595            5.9             0.550         0.10             2.2      0.062   \n",
       "1596            6.3             0.510         0.13             2.3      0.076   \n",
       "1597            5.9             0.645         0.12             2.0      0.075   \n",
       "1598            6.0             0.310         0.47             3.6      0.067   \n",
       "\n",
       "      free sulfur dioxide  total sulfur dioxide  density    pH  sulphates  \\\n",
       "0                    11.0                  34.0  0.99780  3.51       0.56   \n",
       "1                    25.0                  67.0  0.99680  3.20       0.68   \n",
       "2                    15.0                  54.0  0.99700  3.26       0.65   \n",
       "3                    17.0                  60.0  0.99800  3.16       0.58   \n",
       "4                    11.0                  34.0  0.99780  3.51       0.56   \n",
       "...                   ...                   ...      ...   ...        ...   \n",
       "1594                 32.0                  44.0  0.99490  3.45       0.58   \n",
       "1595                 39.0                  51.0  0.99512  3.52       0.76   \n",
       "1596                 29.0                  40.0  0.99574  3.42       0.75   \n",
       "1597                 32.0                  44.0  0.99547  3.57       0.71   \n",
       "1598                 18.0                  42.0  0.99549  3.39       0.66   \n",
       "\n",
       "      alcohol  quality  \n",
       "0         9.4        5  \n",
       "1         9.8        5  \n",
       "2         9.8        5  \n",
       "3         9.8        6  \n",
       "4         9.4        5  \n",
       "...       ...      ...  \n",
       "1594     10.5        5  \n",
       "1595     11.2        6  \n",
       "1596     11.0        6  \n",
       "1597     10.2        5  \n",
       "1598     11.0        6  \n",
       "\n",
       "[1599 rows x 12 columns]"
      ]
     },
     "execution_count": 3,
     "metadata": {},
     "output_type": "execute_result"
    }
   ],
   "source": [
    "data"
   ]
  },
  {
   "cell_type": "code",
   "execution_count": 4,
   "id": "0e66a46c",
   "metadata": {},
   "outputs": [
    {
     "data": {
      "text/plain": [
       "fixed acidity           0\n",
       "volatile acidity        0\n",
       "citric acid             0\n",
       "residual sugar          0\n",
       "chlorides               0\n",
       "free sulfur dioxide     0\n",
       "total sulfur dioxide    0\n",
       "density                 0\n",
       "pH                      0\n",
       "sulphates               0\n",
       "alcohol                 0\n",
       "quality                 0\n",
       "dtype: int64"
      ]
     },
     "execution_count": 4,
     "metadata": {},
     "output_type": "execute_result"
    }
   ],
   "source": [
    "data.isnull().sum()"
   ]
  },
  {
   "cell_type": "code",
   "execution_count": 6,
   "id": "285cd5a7",
   "metadata": {},
   "outputs": [],
   "source": [
    "from sklearn.model_selection import train_test_split"
   ]
  },
  {
   "cell_type": "code",
   "execution_count": 8,
   "id": "60439ff4",
   "metadata": {},
   "outputs": [],
   "source": [
    "x=data.iloc[:,[0,1,2,3,4,5,6,7,8,9,10]]\n"
   ]
  },
  {
   "cell_type": "code",
   "execution_count": 9,
   "id": "09211eca",
   "metadata": {},
   "outputs": [],
   "source": [
    "y=data.iloc[:,-1]"
   ]
  },
  {
   "cell_type": "code",
   "execution_count": 10,
   "id": "88acf4f5",
   "metadata": {},
   "outputs": [
    {
     "data": {
      "text/plain": [
       "0       5\n",
       "1       5\n",
       "2       5\n",
       "3       6\n",
       "4       5\n",
       "       ..\n",
       "1594    5\n",
       "1595    6\n",
       "1596    6\n",
       "1597    5\n",
       "1598    6\n",
       "Name: quality, Length: 1599, dtype: int64"
      ]
     },
     "execution_count": 10,
     "metadata": {},
     "output_type": "execute_result"
    }
   ],
   "source": [
    "y"
   ]
  },
  {
   "cell_type": "code",
   "execution_count": 11,
   "id": "eeea8fe7",
   "metadata": {},
   "outputs": [],
   "source": [
    "x_train,x_test,y_train,y_test=train_test_split(x,y,test_size=0.3)"
   ]
  },
  {
   "cell_type": "code",
   "execution_count": 12,
   "id": "5a4ac868",
   "metadata": {},
   "outputs": [
    {
     "data": {
      "text/html": [
       "<div>\n",
       "<style scoped>\n",
       "    .dataframe tbody tr th:only-of-type {\n",
       "        vertical-align: middle;\n",
       "    }\n",
       "\n",
       "    .dataframe tbody tr th {\n",
       "        vertical-align: top;\n",
       "    }\n",
       "\n",
       "    .dataframe thead th {\n",
       "        text-align: right;\n",
       "    }\n",
       "</style>\n",
       "<table border=\"1\" class=\"dataframe\">\n",
       "  <thead>\n",
       "    <tr style=\"text-align: right;\">\n",
       "      <th></th>\n",
       "      <th>fixed acidity</th>\n",
       "      <th>volatile acidity</th>\n",
       "      <th>citric acid</th>\n",
       "      <th>residual sugar</th>\n",
       "      <th>chlorides</th>\n",
       "      <th>free sulfur dioxide</th>\n",
       "      <th>total sulfur dioxide</th>\n",
       "      <th>density</th>\n",
       "      <th>pH</th>\n",
       "      <th>sulphates</th>\n",
       "      <th>alcohol</th>\n",
       "    </tr>\n",
       "  </thead>\n",
       "  <tbody>\n",
       "    <tr>\n",
       "      <th>196</th>\n",
       "      <td>7.3</td>\n",
       "      <td>0.58</td>\n",
       "      <td>0.30</td>\n",
       "      <td>2.4</td>\n",
       "      <td>0.074</td>\n",
       "      <td>15.0</td>\n",
       "      <td>55.0</td>\n",
       "      <td>0.99680</td>\n",
       "      <td>3.46</td>\n",
       "      <td>0.59</td>\n",
       "      <td>10.2</td>\n",
       "    </tr>\n",
       "    <tr>\n",
       "      <th>1391</th>\n",
       "      <td>8.0</td>\n",
       "      <td>0.64</td>\n",
       "      <td>0.22</td>\n",
       "      <td>2.4</td>\n",
       "      <td>0.094</td>\n",
       "      <td>5.0</td>\n",
       "      <td>33.0</td>\n",
       "      <td>0.99612</td>\n",
       "      <td>3.37</td>\n",
       "      <td>0.58</td>\n",
       "      <td>11.0</td>\n",
       "    </tr>\n",
       "    <tr>\n",
       "      <th>966</th>\n",
       "      <td>9.0</td>\n",
       "      <td>0.38</td>\n",
       "      <td>0.41</td>\n",
       "      <td>2.4</td>\n",
       "      <td>0.103</td>\n",
       "      <td>6.0</td>\n",
       "      <td>10.0</td>\n",
       "      <td>0.99604</td>\n",
       "      <td>3.13</td>\n",
       "      <td>0.58</td>\n",
       "      <td>11.9</td>\n",
       "    </tr>\n",
       "    <tr>\n",
       "      <th>1167</th>\n",
       "      <td>8.2</td>\n",
       "      <td>0.33</td>\n",
       "      <td>0.39</td>\n",
       "      <td>2.5</td>\n",
       "      <td>0.074</td>\n",
       "      <td>29.0</td>\n",
       "      <td>48.0</td>\n",
       "      <td>0.99528</td>\n",
       "      <td>3.32</td>\n",
       "      <td>0.88</td>\n",
       "      <td>12.4</td>\n",
       "    </tr>\n",
       "    <tr>\n",
       "      <th>1520</th>\n",
       "      <td>6.5</td>\n",
       "      <td>0.53</td>\n",
       "      <td>0.06</td>\n",
       "      <td>2.0</td>\n",
       "      <td>0.063</td>\n",
       "      <td>29.0</td>\n",
       "      <td>44.0</td>\n",
       "      <td>0.99489</td>\n",
       "      <td>3.38</td>\n",
       "      <td>0.83</td>\n",
       "      <td>10.3</td>\n",
       "    </tr>\n",
       "    <tr>\n",
       "      <th>...</th>\n",
       "      <td>...</td>\n",
       "      <td>...</td>\n",
       "      <td>...</td>\n",
       "      <td>...</td>\n",
       "      <td>...</td>\n",
       "      <td>...</td>\n",
       "      <td>...</td>\n",
       "      <td>...</td>\n",
       "      <td>...</td>\n",
       "      <td>...</td>\n",
       "      <td>...</td>\n",
       "    </tr>\n",
       "    <tr>\n",
       "      <th>652</th>\n",
       "      <td>15.9</td>\n",
       "      <td>0.36</td>\n",
       "      <td>0.65</td>\n",
       "      <td>7.5</td>\n",
       "      <td>0.096</td>\n",
       "      <td>22.0</td>\n",
       "      <td>71.0</td>\n",
       "      <td>0.99760</td>\n",
       "      <td>2.98</td>\n",
       "      <td>0.84</td>\n",
       "      <td>14.9</td>\n",
       "    </tr>\n",
       "    <tr>\n",
       "      <th>1120</th>\n",
       "      <td>7.9</td>\n",
       "      <td>0.54</td>\n",
       "      <td>0.34</td>\n",
       "      <td>2.5</td>\n",
       "      <td>0.076</td>\n",
       "      <td>8.0</td>\n",
       "      <td>17.0</td>\n",
       "      <td>0.99235</td>\n",
       "      <td>3.20</td>\n",
       "      <td>0.72</td>\n",
       "      <td>13.1</td>\n",
       "    </tr>\n",
       "    <tr>\n",
       "      <th>259</th>\n",
       "      <td>10.0</td>\n",
       "      <td>0.31</td>\n",
       "      <td>0.47</td>\n",
       "      <td>2.6</td>\n",
       "      <td>0.085</td>\n",
       "      <td>14.0</td>\n",
       "      <td>33.0</td>\n",
       "      <td>0.99965</td>\n",
       "      <td>3.36</td>\n",
       "      <td>0.80</td>\n",
       "      <td>10.5</td>\n",
       "    </tr>\n",
       "    <tr>\n",
       "      <th>762</th>\n",
       "      <td>8.8</td>\n",
       "      <td>0.70</td>\n",
       "      <td>0.00</td>\n",
       "      <td>1.7</td>\n",
       "      <td>0.069</td>\n",
       "      <td>8.0</td>\n",
       "      <td>19.0</td>\n",
       "      <td>0.99701</td>\n",
       "      <td>3.31</td>\n",
       "      <td>0.53</td>\n",
       "      <td>10.0</td>\n",
       "    </tr>\n",
       "    <tr>\n",
       "      <th>27</th>\n",
       "      <td>7.9</td>\n",
       "      <td>0.43</td>\n",
       "      <td>0.21</td>\n",
       "      <td>1.6</td>\n",
       "      <td>0.106</td>\n",
       "      <td>10.0</td>\n",
       "      <td>37.0</td>\n",
       "      <td>0.99660</td>\n",
       "      <td>3.17</td>\n",
       "      <td>0.91</td>\n",
       "      <td>9.5</td>\n",
       "    </tr>\n",
       "  </tbody>\n",
       "</table>\n",
       "<p>1119 rows × 11 columns</p>\n",
       "</div>"
      ],
      "text/plain": [
       "      fixed acidity  volatile acidity  citric acid  residual sugar  chlorides  \\\n",
       "196             7.3              0.58         0.30             2.4      0.074   \n",
       "1391            8.0              0.64         0.22             2.4      0.094   \n",
       "966             9.0              0.38         0.41             2.4      0.103   \n",
       "1167            8.2              0.33         0.39             2.5      0.074   \n",
       "1520            6.5              0.53         0.06             2.0      0.063   \n",
       "...             ...               ...          ...             ...        ...   \n",
       "652            15.9              0.36         0.65             7.5      0.096   \n",
       "1120            7.9              0.54         0.34             2.5      0.076   \n",
       "259            10.0              0.31         0.47             2.6      0.085   \n",
       "762             8.8              0.70         0.00             1.7      0.069   \n",
       "27              7.9              0.43         0.21             1.6      0.106   \n",
       "\n",
       "      free sulfur dioxide  total sulfur dioxide  density    pH  sulphates  \\\n",
       "196                  15.0                  55.0  0.99680  3.46       0.59   \n",
       "1391                  5.0                  33.0  0.99612  3.37       0.58   \n",
       "966                   6.0                  10.0  0.99604  3.13       0.58   \n",
       "1167                 29.0                  48.0  0.99528  3.32       0.88   \n",
       "1520                 29.0                  44.0  0.99489  3.38       0.83   \n",
       "...                   ...                   ...      ...   ...        ...   \n",
       "652                  22.0                  71.0  0.99760  2.98       0.84   \n",
       "1120                  8.0                  17.0  0.99235  3.20       0.72   \n",
       "259                  14.0                  33.0  0.99965  3.36       0.80   \n",
       "762                   8.0                  19.0  0.99701  3.31       0.53   \n",
       "27                   10.0                  37.0  0.99660  3.17       0.91   \n",
       "\n",
       "      alcohol  \n",
       "196      10.2  \n",
       "1391     11.0  \n",
       "966      11.9  \n",
       "1167     12.4  \n",
       "1520     10.3  \n",
       "...       ...  \n",
       "652      14.9  \n",
       "1120     13.1  \n",
       "259      10.5  \n",
       "762      10.0  \n",
       "27        9.5  \n",
       "\n",
       "[1119 rows x 11 columns]"
      ]
     },
     "execution_count": 12,
     "metadata": {},
     "output_type": "execute_result"
    }
   ],
   "source": [
    "x_train"
   ]
  },
  {
   "cell_type": "code",
   "execution_count": 13,
   "id": "0369a07f",
   "metadata": {},
   "outputs": [],
   "source": [
    "from sklearn.naive_bayes import GaussianNB"
   ]
  },
  {
   "cell_type": "code",
   "execution_count": 16,
   "id": "55441ed3",
   "metadata": {},
   "outputs": [],
   "source": [
    "reg=GaussianNB()"
   ]
  },
  {
   "cell_type": "code",
   "execution_count": 17,
   "id": "399452ec",
   "metadata": {},
   "outputs": [
    {
     "data": {
      "text/plain": [
       "GaussianNB()"
      ]
     },
     "execution_count": 17,
     "metadata": {},
     "output_type": "execute_result"
    }
   ],
   "source": [
    "reg.fit(x_train,y_train)"
   ]
  },
  {
   "cell_type": "code",
   "execution_count": 18,
   "id": "1c0e45b4",
   "metadata": {},
   "outputs": [
    {
     "data": {
      "text/plain": [
       "array([5, 5, 6, 6, 8, 6, 5, 6, 5, 6, 7, 7, 7, 6, 5, 7, 5, 6, 7, 5, 6, 5,\n",
       "       5, 6, 5, 5, 6, 7, 7, 5, 5, 5, 5, 5, 5, 5, 5, 6, 5, 7, 7, 5, 5, 5,\n",
       "       5, 7, 6, 5, 5, 5, 4, 6, 7, 7, 6, 5, 5, 5, 6, 5, 5, 4, 5, 6, 6, 5,\n",
       "       4, 6, 6, 7, 7, 5, 6, 5, 7, 6, 5, 3, 5, 5, 6, 5, 6, 5, 6, 7, 6, 5,\n",
       "       4, 6, 5, 5, 6, 5, 6, 5, 5, 6, 6, 7, 3, 7, 6, 5, 5, 5, 5, 6, 5, 7,\n",
       "       6, 6, 7, 3, 5, 5, 6, 6, 5, 4, 5, 3, 5, 5, 5, 7, 6, 5, 3, 4, 5, 4,\n",
       "       7, 3, 5, 6, 5, 6, 5, 7, 5, 5, 6, 5, 5, 7, 5, 5, 5, 6, 6, 7, 5, 3,\n",
       "       7, 5, 7, 7, 5, 7, 7, 3, 7, 5, 5, 5, 7, 7, 3, 6, 6, 6, 5, 5, 5, 6,\n",
       "       7, 7, 5, 5, 5, 7, 7, 6, 5, 3, 7, 7, 6, 5, 5, 5, 6, 5, 7, 5, 5, 7,\n",
       "       5, 6, 5, 4, 5, 5, 5, 7, 6, 6, 6, 5, 4, 5, 7, 5, 5, 6, 6, 6, 5, 5,\n",
       "       5, 5, 7, 5, 6, 6, 7, 6, 5, 5, 5, 5, 5, 6, 6, 7, 5, 5, 5, 5, 5, 6,\n",
       "       5, 6, 6, 5, 5, 5, 7, 6, 5, 4, 5, 5, 7, 6, 7, 5, 5, 7, 6, 6, 5, 7,\n",
       "       5, 5, 6, 6, 7, 5, 5, 5, 6, 5, 5, 7, 5, 6, 5, 5, 8, 5, 6, 5, 5, 5,\n",
       "       6, 5, 6, 5, 5, 5, 7, 5, 7, 6, 7, 5, 5, 5, 5, 5, 7, 7, 6, 6, 5, 6,\n",
       "       5, 5, 7, 4, 5, 5, 5, 7, 5, 6, 6, 6, 7, 7, 6, 6, 5, 6, 5, 5, 6, 6,\n",
       "       6, 7, 5, 6, 6, 7, 7, 7, 5, 5, 5, 7, 7, 5, 7, 5, 5, 5, 5, 5, 5, 5,\n",
       "       5, 6, 5, 5, 5, 5, 4, 5, 6, 7, 5, 5, 6, 4, 5, 5, 5, 5, 5, 5, 7, 5,\n",
       "       7, 7, 3, 6, 5, 6, 6, 5, 5, 5, 5, 8, 5, 4, 6, 5, 7, 5, 5, 5, 7, 5,\n",
       "       5, 5, 5, 5, 5, 5, 6, 7, 5, 6, 6, 7, 5, 5, 6, 3, 5, 7, 7, 5, 5, 7,\n",
       "       5, 7, 7, 7, 4, 5, 6, 5, 5, 5, 6, 5, 5, 7, 6, 5, 5, 7, 7, 7, 7, 6,\n",
       "       6, 5, 7, 5, 6, 3, 5, 5, 5, 7, 5, 5, 5, 7, 5, 5, 6, 7, 5, 6, 5, 5,\n",
       "       7, 6, 7, 5, 6, 5, 4, 5, 5, 6, 6, 5, 7, 6, 7, 5, 6, 6], dtype=int64)"
      ]
     },
     "execution_count": 18,
     "metadata": {},
     "output_type": "execute_result"
    }
   ],
   "source": [
    "reg.predict(x_test)"
   ]
  },
  {
   "cell_type": "code",
   "execution_count": 19,
   "id": "5085c90d",
   "metadata": {},
   "outputs": [
    {
     "data": {
      "text/plain": [
       "0.50625"
      ]
     },
     "execution_count": 19,
     "metadata": {},
     "output_type": "execute_result"
    }
   ],
   "source": [
    "reg.score(x_test,y_test)"
   ]
  },
  {
   "cell_type": "code",
   "execution_count": 20,
   "id": "f46d686e",
   "metadata": {},
   "outputs": [],
   "source": [
    "from sklearn.ensemble import RandomForestClassifier"
   ]
  },
  {
   "cell_type": "code",
   "execution_count": 36,
   "id": "b58559ab",
   "metadata": {},
   "outputs": [],
   "source": [
    "reg2=RandomForestClassifier(n_estimators=1500,criterion='gini')"
   ]
  },
  {
   "cell_type": "code",
   "execution_count": 37,
   "id": "b2180356",
   "metadata": {},
   "outputs": [
    {
     "data": {
      "text/plain": [
       "RandomForestClassifier(n_estimators=1500)"
      ]
     },
     "execution_count": 37,
     "metadata": {},
     "output_type": "execute_result"
    }
   ],
   "source": [
    "reg2.fit(x_train,y_train)"
   ]
  },
  {
   "cell_type": "code",
   "execution_count": 34,
   "id": "23fd9a0c",
   "metadata": {},
   "outputs": [
    {
     "data": {
      "text/plain": [
       "array([6, 5, 6, 6, 7, 6, 5, 6, 5, 6, 6, 6, 7, 6, 5, 7, 5, 6, 7, 5, 6, 5,\n",
       "       5, 6, 5, 5, 5, 6, 7, 5, 5, 5, 6, 5, 5, 5, 5, 6, 7, 6, 6, 6, 5, 5,\n",
       "       6, 6, 6, 5, 5, 5, 5, 6, 6, 6, 6, 6, 5, 5, 6, 5, 5, 6, 5, 7, 6, 5,\n",
       "       6, 6, 6, 6, 7, 5, 6, 5, 6, 6, 6, 5, 5, 5, 6, 5, 6, 5, 6, 6, 7, 5,\n",
       "       6, 6, 5, 6, 6, 5, 6, 6, 6, 6, 6, 7, 5, 6, 6, 5, 5, 5, 5, 6, 5, 8,\n",
       "       6, 6, 7, 6, 5, 5, 6, 6, 5, 5, 5, 5, 5, 5, 5, 6, 6, 5, 5, 6, 5, 5,\n",
       "       6, 5, 5, 6, 5, 7, 5, 7, 6, 5, 6, 5, 5, 6, 5, 5, 5, 6, 6, 6, 5, 5,\n",
       "       6, 5, 7, 6, 6, 6, 7, 5, 7, 6, 5, 5, 7, 6, 6, 6, 6, 6, 5, 5, 5, 6,\n",
       "       7, 6, 5, 5, 6, 7, 6, 6, 6, 5, 6, 7, 6, 6, 6, 5, 6, 5, 6, 5, 5, 6,\n",
       "       5, 6, 6, 5, 5, 5, 5, 6, 6, 5, 5, 5, 5, 5, 6, 5, 5, 6, 6, 5, 5, 7,\n",
       "       5, 5, 5, 5, 6, 6, 6, 6, 6, 5, 6, 5, 6, 5, 6, 6, 5, 6, 5, 5, 5, 6,\n",
       "       5, 7, 6, 5, 5, 5, 6, 6, 5, 5, 7, 5, 7, 5, 6, 5, 5, 6, 6, 5, 5, 6,\n",
       "       5, 5, 5, 6, 7, 5, 5, 6, 6, 6, 5, 6, 5, 5, 6, 5, 6, 5, 6, 6, 5, 5,\n",
       "       5, 5, 6, 5, 5, 6, 6, 5, 6, 5, 6, 6, 6, 6, 5, 5, 6, 7, 6, 6, 5, 6,\n",
       "       6, 5, 6, 6, 5, 5, 6, 7, 6, 6, 7, 6, 5, 7, 5, 6, 6, 6, 6, 6, 7, 6,\n",
       "       6, 6, 5, 6, 6, 6, 6, 6, 5, 5, 5, 7, 6, 5, 6, 5, 5, 5, 5, 5, 5, 6,\n",
       "       5, 5, 5, 5, 5, 5, 6, 5, 6, 6, 6, 6, 6, 5, 5, 5, 5, 5, 6, 5, 7, 5,\n",
       "       6, 6, 6, 6, 5, 6, 6, 5, 5, 5, 5, 6, 5, 6, 6, 5, 7, 5, 5, 5, 6, 5,\n",
       "       5, 6, 6, 5, 5, 4, 7, 6, 6, 6, 5, 6, 5, 6, 7, 6, 6, 7, 6, 5, 5, 7,\n",
       "       5, 6, 7, 6, 5, 5, 6, 5, 6, 5, 6, 5, 5, 6, 6, 5, 5, 6, 6, 6, 6, 6,\n",
       "       6, 5, 6, 5, 6, 5, 5, 6, 5, 6, 6, 5, 6, 6, 5, 5, 6, 5, 6, 6, 6, 5,\n",
       "       7, 5, 6, 5, 6, 5, 5, 5, 5, 5, 6, 5, 6, 6, 6, 5, 7, 6], dtype=int64)"
      ]
     },
     "execution_count": 34,
     "metadata": {},
     "output_type": "execute_result"
    }
   ],
   "source": [
    "reg2.predict(x_test)"
   ]
  },
  {
   "cell_type": "code",
   "execution_count": 38,
   "id": "a3e91f34",
   "metadata": {},
   "outputs": [
    {
     "data": {
      "text/plain": [
       "0.6979166666666666"
      ]
     },
     "execution_count": 38,
     "metadata": {},
     "output_type": "execute_result"
    }
   ],
   "source": [
    "reg2.score(x_test,y_test)"
   ]
  },
  {
   "cell_type": "code",
   "execution_count": null,
   "id": "32d2b556",
   "metadata": {},
   "outputs": [],
   "source": []
  }
 ],
 "metadata": {
  "kernelspec": {
   "display_name": "Python 3 (ipykernel)",
   "language": "python",
   "name": "python3"
  },
  "language_info": {
   "codemirror_mode": {
    "name": "ipython",
    "version": 3
   },
   "file_extension": ".py",
   "mimetype": "text/x-python",
   "name": "python",
   "nbconvert_exporter": "python",
   "pygments_lexer": "ipython3",
   "version": "3.9.13"
  }
 },
 "nbformat": 4,
 "nbformat_minor": 5
}
